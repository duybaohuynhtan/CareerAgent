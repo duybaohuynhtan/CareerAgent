{
  "cells": [
    {
      "cell_type": "markdown",
      "metadata": {},
      "source": [
        "# Job Search Agent Tools Testing\n",
        "\n",
        "This notebook tests all 4 tools available for the Job Search Agent:\n",
        "1. **search_linkedin_jobs** - LinkedIn job search with filters\n",
        "2. **parse_cv_content** - CV/Resume parsing from text or PDF\n",
        "\n",
        "## Setup"
      ]
    },
    {
      "cell_type": "code",
      "execution_count": 1,
      "metadata": {},
      "outputs": [
        {
          "name": "stdout",
          "output_type": "stream",
          "text": [
            "Project root: /home/duybaohuynhtan/Resume_Analyzer\n",
            "Backend path: /home/duybaohuynhtan/Resume_Analyzer/backend\n",
            "Current working directory: /home/duybaohuynhtan/Resume_Analyzer/tester\n",
            "Using model: llama-3.1-8b-instant\n"
          ]
        }
      ],
      "source": [
        "import sys\n",
        "import os\n",
        "\n",
        "# Add project root and backend directories to Python path\n",
        "project_root = os.path.dirname(os.getcwd())\n",
        "backend_path = os.path.join(project_root, 'backend')\n",
        "tester_path = os.getcwd()\n",
        "\n",
        "for path in [project_root, backend_path, tester_path]:\n",
        "    if path not in sys.path:\n",
        "        sys.path.append(path)\n",
        "\n",
        "print(f\"Project root: {project_root}\")\n",
        "print(f\"Backend path: {backend_path}\")\n",
        "print(f\"Current working directory: {os.getcwd()}\")\n",
        "\n",
        "try:\n",
        "    from config import MODEL_NAME\n",
        "    print(f\"Using model: {MODEL_NAME}\")\n",
        "except ImportError as e:\n",
        "    print(f\"Could not import config. Error: {e}\")\n",
        "    print(\"Please ensure config.py exists in one of these locations:\")\n",
        "    for path in sys.path:\n",
        "        print(f\"- {path}\")"
      ]
    },
    {
      "cell_type": "code",
      "execution_count": 2,
      "metadata": {},
      "outputs": [
        {
          "name": "stdout",
          "output_type": "stream",
          "text": [
            "✅ Job Search Agent imported successfully!\n",
            "create_linkedin_job_agent: <function create_linkedin_job_agent at 0x7f71544afd80>\n",
            "Creating agent with model: llama-3.1-8b-instant\n",
            "✅ Agent created successfully!\n",
            "Agent: memory=ConversationBufferMemory(chat_memory=InMemoryChatMessageHistory(messages=[]), return_messages=True, memory_key='chat_history') verbose=True agent=RunnableMultiActionAgent(runnable=RunnableAssign(mapper={\n",
            "  agent_scratchpad: RunnableLambda(lambda x: format_to_openai_functions(x['intermediate_steps']))\n",
            "})\n",
            "| ChatPromptTemplate(input_variables=['agent_scratchpad', 'chat_history', 'input'], input_types={'chat_history': list[typing.Annotated[typing.Union[typing.Annotated[langchain_core.messages.ai.AIMessage, Tag(tag='ai')], typing.Annotated[langchain_core.messages.human.HumanMessage, Tag(tag='human')], typing.Annotated[langchain_core.messages.chat.ChatMessage, Tag(tag='chat')], typing.Annotated[langchain_core.messages.system.SystemMessage, Tag(tag='system')], typing.Annotated[langchain_core.messages.function.FunctionMessage, Tag(tag='function')], typing.Annotated[langchain_core.messages.tool.ToolMessage, Tag(tag='tool')], typing.Annotated[langchain_core.messages.ai.AIMessageChunk, Tag(tag='AIMessageChunk')], typing.Annotated[langchain_core.messages.human.HumanMessageChunk, Tag(tag='HumanMessageChunk')], typing.Annotated[langchain_core.messages.chat.ChatMessageChunk, Tag(tag='ChatMessageChunk')], typing.Annotated[langchain_core.messages.system.SystemMessageChunk, Tag(tag='SystemMessageChunk')], typing.Annotated[langchain_core.messages.function.FunctionMessageChunk, Tag(tag='FunctionMessageChunk')], typing.Annotated[langchain_core.messages.tool.ToolMessageChunk, Tag(tag='ToolMessageChunk')]], FieldInfo(annotation=NoneType, required=True, discriminator=Discriminator(discriminator=<function _get_type at 0x7f713b4172e0>, custom_error_type=None, custom_error_message=None, custom_error_context=None))]], 'agent_scratchpad': list[typing.Annotated[typing.Union[typing.Annotated[langchain_core.messages.ai.AIMessage, Tag(tag='ai')], typing.Annotated[langchain_core.messages.human.HumanMessage, Tag(tag='human')], typing.Annotated[langchain_core.messages.chat.ChatMessage, Tag(tag='chat')], typing.Annotated[langchain_core.messages.system.SystemMessage, Tag(tag='system')], typing.Annotated[langchain_core.messages.function.FunctionMessage, Tag(tag='function')], typing.Annotated[langchain_core.messages.tool.ToolMessage, Tag(tag='tool')], typing.Annotated[langchain_core.messages.ai.AIMessageChunk, Tag(tag='AIMessageChunk')], typing.Annotated[langchain_core.messages.human.HumanMessageChunk, Tag(tag='HumanMessageChunk')], typing.Annotated[langchain_core.messages.chat.ChatMessageChunk, Tag(tag='ChatMessageChunk')], typing.Annotated[langchain_core.messages.system.SystemMessageChunk, Tag(tag='SystemMessageChunk')], typing.Annotated[langchain_core.messages.function.FunctionMessageChunk, Tag(tag='FunctionMessageChunk')], typing.Annotated[langchain_core.messages.tool.ToolMessageChunk, Tag(tag='ToolMessageChunk')]], FieldInfo(annotation=NoneType, required=True, discriminator=Discriminator(discriminator=<function _get_type at 0x7f713b4172e0>, custom_error_type=None, custom_error_message=None, custom_error_context=None))]]}, partial_variables={}, messages=[SystemMessagePromptTemplate(prompt=PromptTemplate(input_variables=[], input_types={}, partial_variables={}, template='You are a friendly and knowledgeable AI career consultant. You can have natural conversations about careers, job searching, and professional development, while also helping with specific tasks using your tools when needed.\\n\\n🤖 **YOUR PERSONALITY:**\\n- Be conversational and approachable - respond naturally to greetings, questions, and casual conversation\\n- Provide helpful career advice and insights even without using tools\\n- Only use tools when the user has a specific request that requires them\\n- If someone just says \"hi\" or asks a general question, respond normally without invoking tools\\n\\n🛠️ **AVAILABLE TOOLS** (use only when specifically needed):\\n\\n1. **parse_cv_content** - Analyze CV/resume content and extract structured information\\n2. **search_linkedin_jobs** - Search for jobs with specific criteria (keywords, location, company, etc.)\\n\\n🎯 **WHEN TO USE TOOLS:**\\n- **CV Analysis**: User wants their CV/resume parsed or analyzed → use `parse_cv_content`\\n- **Job Search**: User provides specific search criteria → use `search_linkedin_jobs`\\n\\n🎯 **WHEN NOT TO USE TOOLS:**\\n- General career questions or advice\\n- Greetings and casual conversation\\n- Questions about job search strategies  \\n- Resume writing tips\\n- Industry insights\\n- Salary negotiation advice\\n\\n💬 **OUTPUT GUIDELINES:**\\n- For casual conversation: Respond naturally and helpfully\\n- For tool results: Present information clearly and comprehensively\\n- Always be helpful and suggest next steps when appropriate\\n- Keep the conversation flowing - ask follow-up questions when relevant\\n\\nRemember: You\\'re a helpful career assistant who can both chat naturally AND perform specific tasks. Use tools only when the user\\'s request specifically requires them.'), additional_kwargs={}), MessagesPlaceholder(variable_name='chat_history'), HumanMessagePromptTemplate(prompt=PromptTemplate(input_variables=['input'], input_types={}, partial_variables={}, template='{input}'), additional_kwargs={}), MessagesPlaceholder(variable_name='agent_scratchpad')])\n",
            "| RunnableBinding(bound=ChatGroq(client=<groq.resources.chat.completions.Completions object at 0x7f713a385940>, async_client=<groq.resources.chat.completions.AsyncCompletions object at 0x7f713a386510>, model_name='llama-3.1-8b-instant', temperature=1e-08, model_kwargs={}, groq_api_key=SecretStr('**********')), kwargs={'tools': [{'type': 'function', 'function': {'name': 'search_linkedin_jobs', 'description': 'Comprehensive LinkedIn job search with advanced filtering capabilities.\\n\\nSearches for jobs on LinkedIn using Google Custom Search Engine with support for:\\n- Basic filters: location, job type, experience level\\n- Advanced filters: company, industry, salary range, work arrangement\\n- Time filters: date range for job posting recency\\n- Search behavior: similar jobs, exact matching\\n\\nReturns structured job information including title, company, location, salary, \\nrequirements, skills, and more extracted using AI parsing.\\n\\nIMPORTANT: Leave any filter empty if you don\\'t want to apply it. The AI will not\\nmake up or guess values for empty parameters.\\n\\nExample use cases:\\n- Basic search: keyword=\"Python Developer\", location=\"San Francisco, CA\"\\n- Company-specific: keyword=\"Software Engineer\", company=\"Google\"\\n- Remote jobs: keyword=\"Data Scientist\", work_arrangement=\"remote\"\\n- Entry-level: keyword=\"Junior Developer\", experience_level=\"entry\"\\n- Recent postings: keyword=\"DevOps Engineer\", date_range=\"w1\"\\n\\nArgs:\\n    keyword: Main search keyword (job title, skills, technology, or company name)\\n    location: Work location (city, state, country, or \\'remote\\'). Leave empty for all locations\\n    job_type: Employment type (full-time, part-time, contract, internship, temporary, freelance)\\n    experience_level: Experience level (entry, junior, mid, senior, lead, principal, director, executive)\\n    company: Specific company name to search within (e.g., \\'Google\\', \\'Microsoft\\')\\n    industry: Industry sector (e.g., \\'technology\\', \\'healthcare\\', \\'finance\\')\\n    date_range: Job posting recency (d1, w1, m1, m2, m3, m6 for day/week/month ranges)\\n    num_results: Number of job results to return (1-50)\\n    parsing_method: Data extraction method (\\'llm\\' for AI-powered, \\'manual\\' for regex-based)\\n    salary_range: Salary range filter (e.g., \\'$100k-150k\\', \\'80000-120000\\')\\n    work_arrangement: Work arrangement (remote, hybrid, on-site, flexible)\\n    job_function: Job function category (e.g., \\'engineering\\', \\'marketing\\', \\'sales\\', \\'design\\')\\n    include_similar: Include similar/related job titles in search results\\n    exact_match_company: Require exact company name match\\n\\n\\nReturns:\\n    Dict: Search results with job listings and metadata', 'parameters': {'properties': {'keyword': {'description': 'Main search keyword (job title, skills, technology, or company name)', 'type': 'string'}, 'location': {'default': '', 'description': \"Work location (city, state, country, or 'remote'). Leave empty for all locations\", 'type': 'string'}, 'job_type': {'default': '', 'description': 'Employment type: full-time, part-time, contract, internship, temporary, freelance. Leave empty for all types', 'type': 'string'}, 'experience_level': {'default': '', 'description': 'Experience level: entry, junior, mid, senior, lead, principal, director, executive. Leave empty for all levels', 'type': 'string'}, 'company': {'default': '', 'description': \"Specific company name to search within (e.g., 'Google', 'Microsoft'). Leave empty to search all companies\", 'type': 'string'}, 'industry': {'default': '', 'description': \"Industry sector (e.g., 'technology', 'healthcare', 'finance'). Leave empty for all industries\", 'type': 'string'}, 'date_range': {'default': 'm1', 'description': \"Job posting recency: 'd1' (past day), 'w1' (past week), 'm1' (past month), 'm2' (past 2 months), 'm3' (past 3 months), 'm6' (past 6 months)\", 'type': 'string'}, 'num_results': {'default': 5, 'description': 'Number of job results to return (1-50)', 'maximum': 50, 'minimum': 1, 'type': 'integer'}, 'parsing_method': {'default': 'llm', 'description': \"Data extraction method: 'llm' for AI-powered parsing (recommended) or 'manual' for regex-based parsing\", 'type': 'string'}, 'salary_range': {'default': '', 'description': \"Salary range filter (e.g., '$100k-150k', '80000-120000'). Leave empty to ignore salary\", 'type': 'string'}, 'work_arrangement': {'default': '', 'description': 'Work arrangement: remote, hybrid, on-site, flexible. Leave empty for all arrangements', 'type': 'string'}, 'job_function': {'default': '', 'description': \"Job function category (e.g., 'engineering', 'marketing', 'sales', 'design'). Leave empty for all functions\", 'type': 'string'}, 'include_similar': {'default': True, 'description': 'Include similar/related job titles in search results', 'type': 'boolean'}, 'exact_match_company': {'default': False, 'description': 'Require exact company name match (useful for targeting specific companies)', 'type': 'boolean'}}, 'required': ['keyword'], 'type': 'object'}}}, {'type': 'function', 'function': {'name': 'parse_cv_content', 'description': \"Parse CV/resume from text content or PDF file and extract structured information.\\n\\nThis tool can analyze resumes and extract comprehensive information including:\\n- Personal information and contact details\\n- Work experience with detailed job history\\n- Education background\\n- Technical and soft skills\\n- Certifications and achievements\\n- Projects and portfolio information\\n- Career preferences and availability\\n\\nArgs:\\n    content: CV content as text OR file path to PDF file\\n    content_type: 'text' for direct text input or 'pdf' for PDF file path\\n\\n\\nReturns:\\n    Dict: Structured CV information according to ResumeSchema with parsing status\", 'parameters': {'properties': {'content': {'description': 'CV content as text OR file path to PDF file', 'type': 'string'}, 'content_type': {'default': 'text', 'description': \"Type of content: 'text' for direct text input or 'pdf' for PDF file path\", 'type': 'string'}}, 'required': ['content'], 'type': 'object'}}}]}, config={}, config_factories=[])\n",
            "| ToolsAgentOutputParser(), input_keys_arg=[], return_keys_arg=[], stream_runnable=True) tools=[StructuredTool(name='search_linkedin_jobs', description='Comprehensive LinkedIn job search with advanced filtering capabilities.\\n\\nSearches for jobs on LinkedIn using Google Custom Search Engine with support for:\\n- Basic filters: location, job type, experience level\\n- Advanced filters: company, industry, salary range, work arrangement\\n- Time filters: date range for job posting recency\\n- Search behavior: similar jobs, exact matching\\n\\nReturns structured job information including title, company, location, salary, \\nrequirements, skills, and more extracted using AI parsing.\\n\\nIMPORTANT: Leave any filter empty if you don\\'t want to apply it. The AI will not\\nmake up or guess values for empty parameters.\\n\\nExample use cases:\\n- Basic search: keyword=\"Python Developer\", location=\"San Francisco, CA\"\\n- Company-specific: keyword=\"Software Engineer\", company=\"Google\"\\n- Remote jobs: keyword=\"Data Scientist\", work_arrangement=\"remote\"\\n- Entry-level: keyword=\"Junior Developer\", experience_level=\"entry\"\\n- Recent postings: keyword=\"DevOps Engineer\", date_range=\"w1\"\\n\\nArgs:\\n    keyword: Main search keyword (job title, skills, technology, or company name)\\n    location: Work location (city, state, country, or \\'remote\\'). Leave empty for all locations\\n    job_type: Employment type (full-time, part-time, contract, internship, temporary, freelance)\\n    experience_level: Experience level (entry, junior, mid, senior, lead, principal, director, executive)\\n    company: Specific company name to search within (e.g., \\'Google\\', \\'Microsoft\\')\\n    industry: Industry sector (e.g., \\'technology\\', \\'healthcare\\', \\'finance\\')\\n    date_range: Job posting recency (d1, w1, m1, m2, m3, m6 for day/week/month ranges)\\n    num_results: Number of job results to return (1-50)\\n    parsing_method: Data extraction method (\\'llm\\' for AI-powered, \\'manual\\' for regex-based)\\n    salary_range: Salary range filter (e.g., \\'$100k-150k\\', \\'80000-120000\\')\\n    work_arrangement: Work arrangement (remote, hybrid, on-site, flexible)\\n    job_function: Job function category (e.g., \\'engineering\\', \\'marketing\\', \\'sales\\', \\'design\\')\\n    include_similar: Include similar/related job titles in search results\\n    exact_match_company: Require exact company name match\\n\\n\\nReturns:\\n    Dict: Search results with job listings and metadata', args_schema=<class 'schema.LinkedInJobSearchInput'>, func=<function search_linkedin_jobs at 0x7f713a867240>), StructuredTool(name='parse_cv_content', description=\"Parse CV/resume from text content or PDF file and extract structured information.\\n\\nThis tool can analyze resumes and extract comprehensive information including:\\n- Personal information and contact details\\n- Work experience with detailed job history\\n- Education background\\n- Technical and soft skills\\n- Certifications and achievements\\n- Projects and portfolio information\\n- Career preferences and availability\\n\\nArgs:\\n    content: CV content as text OR file path to PDF file\\n    content_type: 'text' for direct text input or 'pdf' for PDF file path\\n\\n\\nReturns:\\n    Dict: Structured CV information according to ResumeSchema with parsing status\", args_schema=<class 'schema.CVParseInput'>, func=<function parse_cv_content at 0x7f713a866e80>)] handle_parsing_errors=True\n"
          ]
        },
        {
          "name": "stderr",
          "output_type": "stream",
          "text": [
            "/home/duybaohuynhtan/Resume_Analyzer/backend/job_search_agent.py:90: LangChainDeprecationWarning: Please see the migration guide at: https://python.langchain.com/docs/versions/migrating_memory/\n",
            "  memory = ConversationBufferMemory(return_messages=True, memory_key=\"chat_history\")\n"
          ]
        }
      ],
      "source": [
        "# Import Job Search Agent\n",
        "try:\n",
        "    from job_search_agent import create_linkedin_job_agent\n",
        "    \n",
        "    print(\"✅ Job Search Agent imported successfully!\")\n",
        "    print(f\"create_linkedin_job_agent: {create_linkedin_job_agent}\")\n",
        "    \n",
        "    # Create the agent\n",
        "    agent = create_linkedin_job_agent()\n",
        "    print(\"✅ Agent created successfully!\")\n",
        "    print(f\"Agent: {agent}\")\n",
        "    \n",
        "except ImportError as e:\n",
        "    print(f\"❌ Import error: {e}\")\n",
        "    print(\"Make sure you're running this from the tester directory\")\n",
        "except Exception as e:\n",
        "    print(f\"❌ Error creating agent: {e}\")\n"
      ]
    },
    {
      "cell_type": "code",
      "execution_count": 3,
      "metadata": {},
      "outputs": [
        {
          "name": "stdout",
          "output_type": "stream",
          "text": [
            "✅ API credentials found\n"
          ]
        }
      ],
      "source": [
        "# Load environment variables\n",
        "from dotenv import load_dotenv\n",
        "import json\n",
        "\n",
        "load_dotenv()\n",
        "\n",
        "# Check if API keys are available\n",
        "api_key = os.getenv('CUSTOM_SEARCH_API_KEY')\n",
        "search_engine_id = os.getenv('GOOGLE_SEARCH_ENGINE_ID')\n",
        "\n",
        "if api_key and search_engine_id:\n",
        "    print(\"✅ API credentials found\")\n",
        "else:\n",
        "    print(\"⚠️ API credentials not found. Some tests may fail.\")\n"
      ]
    },
    {
      "cell_type": "markdown",
      "metadata": {},
      "source": [
        "## Test Data Setup\n",
        "\n",
        "Let's create some sample CV content for testing"
      ]
    },
    {
      "cell_type": "code",
      "execution_count": null,
      "metadata": {},
      "outputs": [],
      "source": [
        "# Sample CV content for testing\n",
        "sample_cv_text = \"\"\"\n",
        "John Doe\n",
        "Senior Software Engineer\n",
        "\n",
        "Contact Information:\n",
        "Email: john.doe@email.com\n",
        "Phone: +1-555-123-4567\n",
        "LinkedIn: linkedin.com/in/johndoe\n",
        "Location: San Francisco, CA\n",
        "\n",
        "Professional Summary:\n",
        "Experienced software engineer with 7+ years of experience in full-stack development, \n",
        "specializing in Python, JavaScript, and cloud technologies. Proven track record of \n",
        "leading development teams and delivering scalable web applications.\n",
        "\n",
        "Work Experience:\n",
        "\n",
        "Senior Software Engineer | TechCorp Inc. | 2021 - Present\n",
        "San Francisco, CA\n",
        "- Led a team of 5 developers in building microservices architecture\n",
        "- Implemented CI/CD pipelines using Docker and Kubernetes\n",
        "- Developed RESTful APIs using Python Django and FastAPI\n",
        "- Collaborated with product team to deliver features for 1M+ users\n",
        "\n",
        "Software Engineer | StartupXYZ | 2019 - 2021\n",
        "Remote\n",
        "- Built responsive web applications using React and Node.js\n",
        "- Designed and implemented PostgreSQL database schemas\n",
        "- Integrated third-party APIs and payment systems\n",
        "- Mentored junior developers and conducted code reviews\n",
        "\n",
        "Junior Developer | WebSolutions Ltd. | 2017 - 2019\n",
        "New York, NY\n",
        "- Developed front-end components using HTML, CSS, and JavaScript\n",
        "- Maintained legacy PHP applications\n",
        "- Participated in agile development processes\n",
        "\n",
        "Education:\n",
        "Bachelor of Science in Computer Science\n",
        "University of California, Berkeley | 2013 - 2017\n",
        "GPA: 3.7/4.0\n",
        "\n",
        "Technical Skills:\n",
        "- Programming Languages: Python, JavaScript, TypeScript, Java, PHP\n",
        "- Frameworks: Django, FastAPI, React, Node.js, Express\n",
        "- Databases: PostgreSQL, MySQL, MongoDB, Redis\n",
        "- Cloud: AWS, Docker, Kubernetes, Terraform\n",
        "- Tools: Git, Jenkins, JIRA, VS Code\n",
        "\n",
        "Certifications:\n",
        "- AWS Certified Solutions Architect (2022)\n",
        "- Certified Kubernetes Administrator (2021)\n",
        "\n",
        "Preferred Work Arrangement: Remote or Hybrid\n",
        "Expected Salary: $120,000 - $150,000\n",
        "\"\"\"\n",
        "\n",
        "print(\"Sample CV text prepared:\")\n",
        "print(f\"Length: {len(sample_cv_text)} characters\")\n",
        "print(f\"Lines: {len(sample_cv_text.split('\\\\n'))} lines\")\n"
      ]
    },
    {
      "cell_type": "markdown",
      "metadata": {},
      "source": [
        "## 1. Test Agent CV Parsing Capability\n",
        "\n",
        "Testing the agent's ability to parse CVs when user provides CV content"
      ]
    },
    {
      "cell_type": "code",
      "execution_count": null,
      "metadata": {},
      "outputs": [],
      "source": [
        "print(\"🧪 Testing Agent CV Parsing Capability\")\n",
        "print(\"=\" * 50)\n",
        "\n",
        "try:\n",
        "    # Test 1: User asks agent to analyze their CV\n",
        "    user_query_1 = f\"\"\"Please analyze my CV and tell me about my background:\n",
        "\n",
        "{sample_cv_text}\n",
        "\n",
        "Can you extract my key information including experience, skills, and career level?\"\"\"\n",
        "    \n",
        "    print(\"Test 1: CV Analysis Request\")\n",
        "    print(\"Query: 'Please analyze my CV and tell me about my background...'\")\n",
        "    print(\"\\n🤖 Agent Response:\")\n",
        "    \n",
        "    response_1 = agent.invoke({\"input\": user_query_1})\n",
        "    print(response_1.get(\"output\", \"No response\"))\n",
        "    \n",
        "except Exception as e:\n",
        "    print(f\"❌ Exception during agent CV analysis: {e}\")\n",
        "\n",
        "print(\"\\n\" + \"=\"*60)\n"
      ]
    },
    {
      "cell_type": "markdown",
      "metadata": {},
      "source": [
        "## 2. Test Agent Job Search Capability\n",
        "\n",
        "Testing the agent's ability to search for jobs based on user criteria"
      ]
    },
    {
      "cell_type": "code",
      "execution_count": null,
      "metadata": {},
      "outputs": [],
      "source": [
        "print(\"🧪 Testing Agent Job Search Capability\")\n",
        "print(\"=\" * 50)\n",
        "\n",
        "try:\n",
        "    # Test 1: Basic job search request\n",
        "    user_query_2 = \"\"\"I'm looking for Python Developer jobs in San Francisco, CA. \n",
        "    Can you help me find some opportunities? Please show me a few relevant positions with details about the companies, requirements, and application links.\"\"\"\n",
        "    \n",
        "    print(\"Test 1: Basic Job Search Request\")\n",
        "    print(\"Query: 'I'm looking for Python Developer jobs in San Francisco, CA...'\")\n",
        "    print(\"\\n🤖 Agent Response:\")\n",
        "    \n",
        "    response_2 = agent.invoke({\"input\": user_query_2})\n",
        "    print(response_2.get(\"output\", \"No response\"))\n",
        "    \n",
        "except Exception as e:\n",
        "    print(f\"❌ Exception during agent job search: {e}\")"
      ]
    },
    {
      "cell_type": "code",
      "execution_count": null,
      "metadata": {},
      "outputs": [],
      "source": [
        "print(\"🧪 Testing Agent Job Search Capability\")\n",
        "print(\"=\" * 50)\n",
        "\n",
        "try:\n",
        "    # Test 1: Basic job search request\n",
        "    user_query_2 = \"\"\"I'm looking for Python Developer jobs in San Francisco, CA. \n",
        "    Can you help me find some opportunities? Please show me a few relevant positions with details about the companies, requirements, and application links.\"\"\"\n",
        "    \n",
        "    print(\"Test 1: Basic Job Search Request\")\n",
        "    print(\"Query: 'I'm looking for Python Developer jobs in San Francisco, CA...'\")\n",
        "    print(\"\\n🤖 Agent Response:\")\n",
        "    \n",
        "    response_2 = agent.invoke({\"input\": user_query_2})\n",
        "    print(response_2.get(\"output\", \"No response\"))\n",
        "    \n",
        "except Exception as e:\n",
        "    print(f\"❌ Exception during agent job search: {e}\")\n",
        "\n",
        "print(\"\\n\" + \"=\"*60)\n",
        "\n",
        "try:\n",
        "    # Test 2: Advanced job search with filters\n",
        "    user_query_3 = \"\"\"I want to find remote Senior Software Engineer positions. \n",
        "    I'm specifically interested in full-time roles at technology companies. \n",
        "    Can you search for recent job postings from the past week? Please find 3-4 relevant opportunities.\"\"\"\n",
        "    \n",
        "    print(\"Test 2: Advanced Job Search with Filters\")\n",
        "    print(\"Query: 'I want to find remote Senior Software Engineer positions...'\")\n",
        "    print(\"\\n🤖 Agent Response:\")\n",
        "    \n",
        "    response_3 = agent.invoke({\"input\": user_query_3})\n",
        "    print(response_3.get(\"output\", \"No response\"))\n",
        "    \n",
        "except Exception as e:\n",
        "    print(f\"❌ Exception during advanced job search: {e}\")\n",
        "\n",
        "print(\"\\n\" + \"=\"*60)\n"
      ]
    },
    {
      "cell_type": "markdown",
      "metadata": {},
      "source": [
        "## 4. Test Agent PDF Handling and Career Guidance\n",
        "\n",
        "Testing the agent's ability to handle PDF files and provide career advice"
      ]
    },
    {
      "cell_type": "code",
      "execution_count": null,
      "metadata": {},
      "outputs": [],
      "source": [
        "print(\"🧪 Testing Agent PDF Handling and Career Guidance\")\n",
        "print(\"=\" * 60)\n",
        "\n",
        "try:\n",
        "    # Test 1: Career advice request\n",
        "    user_query_5 = \"\"\"I'm a software engineer with 7+ years of experience in Python and JavaScript. \n",
        "    I want to transition to a more senior role, possibly as a tech lead or architect. \n",
        "    What should I focus on to make this transition? And can you help me find relevant positions?\"\"\"\n",
        "    \n",
        "    print(\"Test 1: Career Guidance Request\")\n",
        "    print(\"Query: 'I want to transition to a more senior role, possibly as a tech lead...'\")\n",
        "    print(\"\\n🤖 Agent Response:\")\n",
        "    \n",
        "    response_5 = agent.invoke({\"input\": user_query_5})\n",
        "    print(response_5.get(\"output\", \"No response\"))\n",
        "    \n",
        "except Exception as e:\n",
        "    print(f\"❌ Exception during career guidance: {e}\")\n",
        "\n",
        "print(\"\\n\" + \"=\"*60)\n",
        "\n",
        "try:\n",
        "    # Test 2: PDF file handling (conceptual test)\n",
        "    user_query_6 = \"\"\"If I had a PDF resume file, how would you help me analyze it and find jobs? \n",
        "    What's the process you would follow? Can you explain your capabilities for handling PDF resumes?\"\"\"\n",
        "    \n",
        "    print(\"Test 2: PDF Handling Capabilities\")\n",
        "    print(\"Query: 'If I had a PDF resume file, how would you help me analyze it...'\")\n",
        "    print(\"\\n🤖 Agent Response:\")\n",
        "    \n",
        "    response_6 = agent.invoke({\"input\": user_query_6})\n",
        "    print(response_6.get(\"output\", \"No response\"))\n",
        "    \n",
        "except Exception as e:\n",
        "    print(f\"❌ Exception during PDF capabilities inquiry: {e}\")\n",
        "\n",
        "print(\"\\n\" + \"=\"*60)\n"
      ]
    }
  ],
  "metadata": {
    "kernelspec": {
      "display_name": "project_env",
      "language": "python",
      "name": "python3"
    },
    "language_info": {
      "codemirror_mode": {
        "name": "ipython",
        "version": 3
      },
      "file_extension": ".py",
      "mimetype": "text/x-python",
      "name": "python",
      "nbconvert_exporter": "python",
      "pygments_lexer": "ipython3",
      "version": "3.13.5"
    }
  },
  "nbformat": 4,
  "nbformat_minor": 2
}
