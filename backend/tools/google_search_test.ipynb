{
  "cells": [
    {
      "cell_type": "code",
      "execution_count": null,
      "metadata": {},
      "outputs": [],
      "source": [
        "import os\n",
        "from dotenv import load_dotenv, find_dotenv\n",
        "_ = load_dotenv(find_dotenv())\n",
        "\n",
        "from google_cse_linkedin_search import search_linkedin_jobs_google\n",
        "import json\n",
        "from pprint import pprint\n"
      ]
    },
    {
      "cell_type": "code",
      "execution_count": null,
      "metadata": {},
      "outputs": [],
      "source": [
        "# You need to set up the API keys in the .env file:\n",
        "# GOOGLE_CSE_API_KEY=your_google_api_key\n",
        "# GOOGLE_CSE_SEARCH_ENGINE_ID=your_search_engine_id  \n",
        "# GROQ_API_KEY=your_groq_api_key\n",
        "\n",
        "google_api_key = os.getenv('CUSTOM_SEARCH_API_KEY')\n",
        "search_engine_id = os.getenv('GOOGLE_SEARCH_ENGINE_ID')\n",
        "groq_api_key = os.getenv('GROQ_API_KEY')\n",
        "\n",
        "print(f\"Google API Key: {'✓ Set' if google_api_key else '✗ Missing'}\")\n",
        "print(f\"Search Engine ID: {'✓ Set' if search_engine_id else '✗ Missing'}\")\n",
        "print(f\"Groq API Key: {'✓ Set' if groq_api_key else '✗ Missing'}\")\n"
      ]
    },
    {
      "cell_type": "markdown",
      "metadata": {
        "vscode": {
          "languageId": "raw"
        }
      },
      "source": [
        "## 1. Manual Parsing"
      ]
    },
    {
      "cell_type": "code",
      "execution_count": null,
      "metadata": {},
      "outputs": [],
      "source": [
        "# Test manual parsing\n",
        "manual_results = search_linkedin_jobs_google(\n",
        "    api_key=google_api_key,\n",
        "    search_engine_id=search_engine_id,\n",
        "    keyword=\"python developer\",\n",
        "    location=\"remote\",\n",
        "    num_results=3,\n",
        "    parsing_method=\"manual\"\n",
        ")\n",
        "\n",
        "print(\"=== MANUAL PARSING RESULTS ===\")\n",
        "print(f\"Success: {manual_results['success']}\")\n",
        "print(f\"Parsing method: {manual_results.get('parsing_method')}\")\n",
        "print(f\"Total found: {manual_results['total_found']}\")\n",
        "print(\"\\nJobs:\")\n",
        "for i, job in enumerate(manual_results['jobs'], 1):\n",
        "    print(f\"\\n--- Job {i} ---\")\n",
        "    pprint(job)\n"
      ]
    },
    {
      "cell_type": "markdown",
      "metadata": {
        "vscode": {
          "languageId": "raw"
        }
      },
      "source": [
        "## 2. LLM Parsing"
      ]
    },
    {
      "cell_type": "code",
      "execution_count": null,
      "metadata": {},
      "outputs": [],
      "source": [
        "# Test LLM parsing\n",
        "llm_results = search_linkedin_jobs_google(\n",
        "    api_key=google_api_key,\n",
        "    search_engine_id=search_engine_id,\n",
        "    keyword=\"python developer\",\n",
        "    location=\"remote\",\n",
        "    num_results=3,\n",
        "    parsing_method=\"llm\",\n",
        ")\n",
        "\n",
        "print(\"=== LLM PARSING RESULTS ===\")\n",
        "print(f\"Success: {llm_results['success']}\")\n",
        "print(f\"Parsing method: {llm_results.get('parsing_method')}\")\n",
        "print(f\"Total found: {llm_results['total_found']}\")\n",
        "print(\"\\nJobs:\")\n",
        "for i, job in enumerate(llm_results['jobs'], 1):\n",
        "    print(f\"\\n--- Job {i} ---\")\n",
        "    pprint(job)\n"
      ]
    },
    {
      "cell_type": "markdown",
      "metadata": {
        "vscode": {
          "languageId": "raw"
        }
      },
      "source": [
        "## 3. Compare Results"
      ]
    },
    {
      "cell_type": "code",
      "execution_count": null,
      "metadata": {},
      "outputs": [],
      "source": [
        "print(\"=== COMPARISON ===\")\n",
        "print(f\"Manual parsing found: {manual_results['total_found']} jobs\")\n",
        "print(f\"LLM parsing found: {llm_results['total_found']} jobs\")\n",
        "\n",
        "if manual_results['jobs'] and llm_results['jobs']:\n",
        "    print(\"\\n=== Sample comparison (first job) ===\")\n",
        "    print(\"\\nManual parsing fields:\")\n",
        "    print(list(manual_results['jobs'][0].keys()))\n",
        "    print(\"\\nLLM parsing fields:\")\n",
        "    print(list(llm_results['jobs'][0].keys()))\n",
        "    \n",
        "    print(\"\\n=== Title comparison ===\")\n",
        "    print(f\"Manual: {manual_results['jobs'][0].get('title')}\")\n",
        "    print(f\"LLM: {llm_results['jobs'][0].get('title')}\")\n",
        "    \n",
        "    print(\"\\n=== Company comparison ===\")\n",
        "    print(f\"Manual: {manual_results['jobs'][0].get('company')}\")\n",
        "    print(f\"LLM: {llm_results['jobs'][0].get('company')}\")\n",
        "    \n",
        "    print(\"\\n=== Location comparison ===\")\n",
        "    print(f\"Manual: {manual_results['jobs'][0].get('location')}\")\n",
        "    print(f\"LLM: {llm_results['jobs'][0].get('location')}\")\n"
      ]
    }
  ],
  "metadata": {
    "kernelspec": {
      "display_name": "project_env",
      "language": "python",
      "name": "python3"
    },
    "language_info": {
      "codemirror_mode": {
        "name": "ipython",
        "version": 3
      },
      "file_extension": ".py",
      "mimetype": "text/x-python",
      "name": "python",
      "nbconvert_exporter": "python",
      "pygments_lexer": "ipython3",
      "version": "3.13.5"
    }
  },
  "nbformat": 4,
  "nbformat_minor": 2
}
