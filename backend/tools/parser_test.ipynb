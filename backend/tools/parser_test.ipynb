{
 "cells": [
  {
   "cell_type": "code",
   "execution_count": 1,
   "id": "0f494ea8",
   "metadata": {},
   "outputs": [],
   "source": [
    "import os\n",
    "from dotenv import load_dotenv, find_dotenv\n",
    "_ = load_dotenv(find_dotenv())"
   ]
  },
  {
   "cell_type": "code",
   "execution_count": 2,
   "id": "53897f89",
   "metadata": {},
   "outputs": [],
   "source": [
    "from typing import Optional, List\n",
    "from pydantic import BaseModel, Field\n",
    "from langchain.utils.openai_functions import convert_pydantic_to_openai_function\n",
    "from langchain.prompts import ChatPromptTemplate\n",
    "from langchain.output_parsers.openai_functions import JsonOutputFunctionsParser, JsonKeyOutputFunctionsParser\n",
    "from langchain_groq import ChatGroq\n",
    "from parser import *"
   ]
  },
  {
   "cell_type": "code",
   "execution_count": 3,
   "id": "8ffd6bee",
   "metadata": {},
   "outputs": [],
   "source": [
    "model = ChatGroq(\n",
    "    model=\"llama-3.3-70b-versatile\",\n",
    "    temperature=0,\n",
    ")"
   ]
  },
  {
   "cell_type": "code",
   "execution_count": 4,
   "id": "ffd476ea",
   "metadata": {},
   "outputs": [],
   "source": [
    "pdf_path = \"/home/duybaohuynhtan/Resume Analyzer/test.pdf\"\n",
    "content = read_pdf(pdf_path)"
   ]
  },
  {
   "cell_type": "code",
   "execution_count": 5,
   "id": "65c88762",
   "metadata": {},
   "outputs": [
    {
     "name": "stderr",
     "output_type": "stream",
     "text": [
      "/tmp/ipykernel_46275/2667766373.py:1: LangChainDeprecationWarning: The function `_convert_pydantic_to_openai_function` was deprecated in LangChain 0.1.16 and will be removed in 1.0. Use :meth:`~langchain_core.utils.function_calling.convert_to_openai_function()` instead.\n",
      "  extraction_functions = [convert_pydantic_to_openai_function(ResumeSchema)]\n"
     ]
    }
   ],
   "source": [
    "extraction_functions = [convert_pydantic_to_openai_function(ResumeSchema)]\n",
    "extraction_model = model.bind(functions=extraction_functions, function_call={\"name\": \"ResumeSchema\"})"
   ]
  },
  {
   "cell_type": "code",
   "execution_count": 6,
   "id": "0ab10bbd",
   "metadata": {},
   "outputs": [],
   "source": [
    "prompt = ChatPromptTemplate.from_messages([\n",
    "    (\"system\", \"Extract the relevant information, if not explicitly provided do not guess. Extract partial info\"),\n",
    "    (\"human\", \"{input}\")\n",
    "])"
   ]
  },
  {
   "cell_type": "code",
   "execution_count": 7,
   "id": "37051ef9",
   "metadata": {},
   "outputs": [
    {
     "data": {
      "text/plain": [
       "{'education': [{'duration': '2024 - 2027',\n",
       "   'institution': 'Borcelle University'},\n",
       "  {'duration': '2021 - 2024', 'institution': 'Borcelle University'},\n",
       "  {'duration': '2018 - 2021', 'institution': 'Borcelle University'}],\n",
       " 'email': 'hello@reallygreatsite.com',\n",
       " 'experiences': [{'company': 'Timmerman Industries',\n",
       "   'duration': 'NOW-2024',\n",
       "   'position': 'Office Manager'},\n",
       "  {'company': 'Thynk Unlimited',\n",
       "   'duration': '2023-2022',\n",
       "   'position': 'Office Manager'},\n",
       "  {'company': 'Ingoude Company',\n",
       "   'duration': '2021-2020',\n",
       "   'position': 'Office Manager'}],\n",
       " 'name': 'RIAAN CHANDRAN',\n",
       " 'phone': '+123-456-7890',\n",
       " 'skills': ['Organizational Skills',\n",
       "  'Leadership',\n",
       "  'Time Management',\n",
       "  'Communication Skills',\n",
       "  'Problem Solving',\n",
       "  'Hindi',\n",
       "  'English']}"
      ]
     },
     "execution_count": 7,
     "metadata": {},
     "output_type": "execute_result"
    }
   ],
   "source": [
    "extraction_chain = prompt | extraction_model | JsonOutputFunctionsParser()\n",
    "\n",
    "extraction_chain.invoke({\"input\": content})"
   ]
  }
 ],
 "metadata": {
  "kernelspec": {
   "display_name": "project_env",
   "language": "python",
   "name": "python3"
  },
  "language_info": {
   "codemirror_mode": {
    "name": "ipython",
    "version": 3
   },
   "file_extension": ".py",
   "mimetype": "text/x-python",
   "name": "python",
   "nbconvert_exporter": "python",
   "pygments_lexer": "ipython3",
   "version": "3.13.5"
  }
 },
 "nbformat": 4,
 "nbformat_minor": 5
}
