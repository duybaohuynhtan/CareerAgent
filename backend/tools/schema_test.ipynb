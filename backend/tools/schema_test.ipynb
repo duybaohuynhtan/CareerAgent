{
  "cells": [
    {
      "cell_type": "markdown",
      "metadata": {
        "vscode": {
          "languageId": "raw"
        }
      },
      "source": [
        "# Schema Testing - Resume & Job Data Extraction\n",
        "\n",
        "This notebook demonstrates the improved schema functionality for extracting structured data from:\n",
        "1. CV/Resume documents\n",
        "2. Job postings from LinkedIn\n",
        "\n",
        "Both parsing methods ensure that missing information returns string \"None\" instead of null values.\n"
      ]
    },
    {
      "cell_type": "code",
      "execution_count": null,
      "metadata": {},
      "outputs": [],
      "source": [
        "import os\n",
        "import sys\n",
        "from dotenv import load_dotenv, find_dotenv\n",
        "from pprint import pprint\n",
        "import json\n",
        "\n",
        "# Load environment variables\n",
        "_ = load_dotenv(find_dotenv())\n",
        "\n",
        "# Import our schema and parsing functions\n",
        "from schema import (\n",
        "    ResumeSchema, JobSchema, CVParser,\n",
        "    parse_resume_text, parse_resume_pdf\n",
        ")\n",
        "from google_cse_linkedin_search import search_linkedin_jobs_google\n"
      ]
    },
    {
      "cell_type": "markdown",
      "metadata": {
        "vscode": {
          "languageId": "raw"
        }
      },
      "source": [
        "## 1. Testing Resume/CV Parsing"
      ]
    },
    {
      "cell_type": "code",
      "execution_count": null,
      "metadata": {},
      "outputs": [],
      "source": [
        "# Sample resume text for testing\n",
        "sample_resume_text = \"\"\"\n",
        "John Doe\n",
        "Senior Python Developer\n",
        "\n",
        "Contact Information:\n",
        "Email: john.doe@email.com\n",
        "Phone: +1-555-0123\n",
        "Location: San Francisco, CA\n",
        "LinkedIn: https://linkedin.com/in/johndoe\n",
        "GitHub: https://github.com/johndoe\n",
        "\n",
        "Professional Summary:\n",
        "Experienced Python developer with 8+ years of experience in web development, data science, and machine learning. \n",
        "Skilled in Django, Flask, PostgreSQL, and cloud technologies. Strong background in building scalable applications.\n",
        "\n",
        "Work Experience:\n",
        "\n",
        "Senior Python Developer | Tech Corp | Jan 2020 - Present\n",
        "San Francisco, CA | Full-time\n",
        "• Led development of microservices architecture using Django and PostgreSQL\n",
        "• Improved application performance by 40% through code optimization\n",
        "• Mentored junior developers and conducted code reviews\n",
        "• Technologies: Python, Django, PostgreSQL, Redis, AWS, Docker\n",
        "\n",
        "Python Developer | StartupXYZ | Jun 2018 - Dec 2019\n",
        "Remote | Full-time\n",
        "• Developed RESTful APIs using Flask and SQLAlchemy\n",
        "• Implemented automated testing with pytest and CI/CD pipelines\n",
        "• Collaborated with cross-functional teams in Agile environment\n",
        "• Technologies: Python, Flask, SQLAlchemy, MySQL, Jenkins\n",
        "\n",
        "Education:\n",
        "Bachelor of Science in Computer Science\n",
        "University of California, Berkeley | 2014-2018\n",
        "GPA: 3.8/4.0\n",
        "Relevant Coursework: Data Structures, Algorithms, Database Systems, Machine Learning\n",
        "\n",
        "Skills:\n",
        "Programming Languages: Python (Expert), JavaScript (Advanced), SQL (Advanced), Java (Intermediate)\n",
        "Frameworks: Django, Flask, React, Node.js\n",
        "Databases: PostgreSQL, MySQL, MongoDB, Redis\n",
        "Cloud: AWS (EC2, S3, RDS), Docker, Kubernetes\n",
        "Tools: Git, Jenkins, Jira, VS Code\n",
        "\n",
        "Certifications:\n",
        "• AWS Certified Solutions Architect - Associate (2021)\n",
        "• Python Institute PCAP Certification (2019)\n",
        "\n",
        "Projects:\n",
        "E-commerce Platform (2020-2021)\n",
        "• Built scalable e-commerce platform using Django and PostgreSQL\n",
        "• Implemented payment processing with Stripe API\n",
        "• Deployed on AWS with auto-scaling capabilities\n",
        "• GitHub: https://github.com/johndoe/ecommerce-platform\n",
        "\n",
        "Languages:\n",
        "• English (Native)\n",
        "• Spanish (Intermediate)\n",
        "\n",
        "Expected Salary: $120,000 - $150,000\n",
        "Availability: 2 weeks notice\n",
        "Preferred Work Type: Remote or Hybrid\n",
        "\"\"\"\n",
        "\n",
        "print(\"Testing resume parsing...\")\n",
        "resume_result = parse_resume_text(sample_resume_text)\n",
        "\n",
        "print(f\"\\nParsing Success: {resume_result['success']}\")\n",
        "if resume_result['success']:\n",
        "    print(f\"Parsing Method: {resume_result['parsing_method']}\")\n",
        "    print(\"\\n=== PARSED RESUME DATA ===\")\n",
        "    pprint(resume_result['data'], width=120)\n",
        "else:\n",
        "    print(f\"Error: {resume_result['error']}\")\n"
      ]
    },
    {
      "cell_type": "markdown",
      "metadata": {
        "vscode": {
          "languageId": "raw"
        }
      },
      "source": [
        "## 2. Testing 'None' String Handling"
      ]
    },
    {
      "cell_type": "code",
      "execution_count": null,
      "metadata": {},
      "outputs": [],
      "source": [
        "# Test with minimal resume to check 'None' handling\n",
        "minimal_resume = \"\"\"\n",
        "Jane Smith\n",
        "Email: jane@email.com\n",
        "Python Developer with 3 years experience.\n",
        "\"\"\"\n",
        "\n",
        "print(\"Testing with minimal resume data...\")\n",
        "minimal_result = parse_resume_text(minimal_resume)\n",
        "\n",
        "if minimal_result['success']:\n",
        "    print(\"\\n=== CHECKING 'None' STRING HANDLING ===\")\n",
        "    data = minimal_result['data']\n",
        "    \n",
        "    # Check some fields that should be 'None'\n",
        "    fields_to_check = [\n",
        "        'current_salary', 'availability', 'total_years_experience',\n",
        "        'summary', 'professional_title'\n",
        "    ]\n",
        "    \n",
        "    for field in fields_to_check:\n",
        "        value = data.get(field, 'MISSING')\n",
        "        value_type = type(value).__name__\n",
        "        print(f\"{field}: {repr(value)} (type: {value_type})\")\n",
        "    \n",
        "    # Check nested objects\n",
        "    print(\"\\nContact info fields:\")\n",
        "    contact = data.get('contact_info', {})\n",
        "    for key, value in contact.items():\n",
        "        if value != [] and key in ['phone', 'address', 'linkedin', 'github']:\n",
        "            print(f\"  {key}: {repr(value)} (type: {type(value).__name__})\")\n",
        "            \n",
        "else:\n",
        "    print(f\"Minimal parsing failed: {minimal_result['error']}\")\n"
      ]
    },
    {
      "cell_type": "markdown",
      "metadata": {
        "vscode": {
          "languageId": "raw"
        }
      },
      "source": [
        "## 3. Testing Job Parsing with Improved Schema"
      ]
    },
    {
      "cell_type": "code",
      "execution_count": null,
      "metadata": {},
      "outputs": [],
      "source": [
        "# Get API keys\n",
        "google_api_key = os.getenv('CUSTOM_SEARCH_API_KEY')\n",
        "search_engine_id = os.getenv('GOOGLE_SEARCH_ENGINE_ID')\n",
        "groq_api_key = os.getenv('GROQ_API_KEY')\n",
        "\n",
        "print(f\"Google API Key: {'✓ Set' if google_api_key else '✗ Missing'}\")\n",
        "print(f\"Search Engine ID: {'✓ Set' if search_engine_id else '✗ Missing'}\")\n",
        "print(f\"Groq API Key: {'✓ Set' if groq_api_key else '✗ Missing'}\")\n",
        "\n",
        "if google_api_key and search_engine_id:\n",
        "    print(\"\\nTesting job parsing with LLM...\")\n",
        "    job_results = search_linkedin_jobs_google(\n",
        "        api_key=google_api_key,\n",
        "        search_engine_id=search_engine_id,\n",
        "        keyword=\"python developer\",\n",
        "        location=\"remote\",\n",
        "        num_results=2,\n",
        "        parsing_method=\"llm\"\n",
        "    )\n",
        "    \n",
        "    print(f\"\\nJob Search Success: {job_results['success']}\")\n",
        "    print(f\"Parsing Method: {job_results.get('parsing_method')}\")\n",
        "    print(f\"Total Found: {job_results['total_found']}\")\n",
        "    \n",
        "    if job_results['jobs']:\n",
        "        print(\"\\n=== FIRST JOB PARSED DATA ===\")\n",
        "        pprint(job_results['jobs'][0], width=120)\n",
        "    else:\n",
        "        print(\"No jobs found or parsing failed\")\n",
        "        if not job_results['success']:\n",
        "            print(f\"Error: {job_results.get('error')}\")\n",
        "else:\n",
        "    print(\"\\nSkipping job parsing test - API keys not configured\")\n"
      ]
    },
    {
      "cell_type": "markdown",
      "metadata": {
        "vscode": {
          "languageId": "raw"
        }
      },
      "source": [
        "## 4. Schema Field Analysis"
      ]
    },
    {
      "cell_type": "code",
      "execution_count": null,
      "metadata": {},
      "outputs": [],
      "source": [
        "# Analyze the schema structures\n",
        "print(\"=== RESUME SCHEMA FIELDS ===\")\n",
        "resume_fields = list(ResumeSchema.__fields__.keys())\n",
        "print(f\"Total fields: {len(resume_fields)}\")\n",
        "for i, field in enumerate(resume_fields, 1):\n",
        "    print(f\"{i:2d}. {field}\")\n",
        "\n",
        "print(\"\\n=== JOB SCHEMA FIELDS ===\")\n",
        "job_fields = list(JobSchema.__fields__.keys())\n",
        "print(f\"Total fields: {len(job_fields)}\")\n",
        "for i, field in enumerate(job_fields, 1):\n",
        "    print(f\"{i:2d}. {field}\")\n",
        "\n",
        "# Test schema instantiation\n",
        "print(\"\\n=== SCHEMA VALIDATION TEST ===\")\n",
        "try:\n",
        "    # Create empty instances to see default values\n",
        "    empty_resume = ResumeSchema()\n",
        "    empty_job = JobSchema()\n",
        "    print(\"✓ Schemas can be instantiated with default values\")\n",
        "    \n",
        "    # Check a few default values\n",
        "    print(f\"Resume default name: {repr(empty_resume.full_name)}\")\n",
        "    print(f\"Job default title: {repr(empty_job.title)}\")\n",
        "    print(f\"Job default company name: {repr(empty_job.company_info.name)}\")\n",
        "    \n",
        "except Exception as e:\n",
        "    print(f\"✗ Schema validation error: {e}\")\n",
        "\n",
        "print(\"\\n=== SUMMARY ===\")\n",
        "print(\"• Enhanced ResumeSchema with comprehensive fields for CV parsing\")\n",
        "print(\"• Enhanced JobSchema with detailed job information structure\")  \n",
        "print(\"• All missing fields return 'None' string instead of null\")\n",
        "print(\"• LLM prompts updated to enforce proper 'None' handling\")\n",
        "print(\"• Ready for CV vs Job matching analysis\")\n"
      ]
    }
  ],
  "metadata": {
    "language_info": {
      "name": "python"
    }
  },
  "nbformat": 4,
  "nbformat_minor": 2
}
